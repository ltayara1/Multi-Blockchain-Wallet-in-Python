{
 "cells": [
  {
   "cell_type": "code",
   "execution_count": 27,
   "id": "maritime-infrastructure",
   "metadata": {},
   "outputs": [],
   "source": [
    "from constants import *\n",
    "import subprocess\n",
    "import json\n",
    "import os\n",
    "from web3 import Web3\n",
    "from bit import *\n",
    "from dotenv import load_dotenv\n",
    "\n",
    "load_dotenv(\"example.env\")\n",
    "\n",
    "from web3.middleware import geth_poa_middleware\n",
    "from eth_account import Account\n",
    "\n",
    "from pathlib import Path\n",
    "from getpass import getpass\n",
    "\n",
    "from bit import wif_to_key, PrivateKeyTestnet\n",
    "from bit.network import NetworkAPI"
   ]
  },
  {
   "cell_type": "code",
   "execution_count": 28,
   "id": "lyric-syracuse",
   "metadata": {},
   "outputs": [],
   "source": [
    "mnemonic = os.getenv('MNEMONIC')\n",
    "\n",
    "w3 = Web3(Web3.HTTPProvider(\"http://127.0.0.1:7545\"))\n",
    "w3.eth.getBalance(\"0x0172DBb6C9583D8D4457547016Ad8BfaCDDd138D\")\n",
    "w3.middleware_onion.inject(geth_poa_middleware, layer=0)\n",
    "from web3.gas_strategies.time_based import medium_gas_price_strategy\n",
    "w3.eth.setGasPriceStrategy(medium_gas_price_strategy)"
   ]
  },
  {
   "cell_type": "code",
   "execution_count": 29,
   "id": "expressed-techno",
   "metadata": {},
   "outputs": [
    {
     "name": "stdout",
     "output_type": "stream",
     "text": [
      "C:/xampp/php/php.exe ./hd-wallet-derive/hd-wallet-derive.php -g --coin=BTC --numderive=3 --cols=path,address,privkey,pubkey --format=json --mnemonic='note absent option glide fossil volcano hire cabin cup diamond pond project'\n"
     ]
    },
    {
     "data": {
      "text/plain": [
       "[{'path': \"m/44'/0'/0'/0/0\",\n",
       "  'address': '1NWzLmD9UsHV65rghzaKcG5BJCUER9LftD',\n",
       "  'privkey': 'KzSQafP5XfCk2h3S1fzRQjbwTJTd8yhpTw5eZm9MHT1J7AHrZjdf',\n",
       "  'pubkey': '031badabef86cfb6ae50f2cbbb62938273572dfeaf8569cc5ed71963250c462889'},\n",
       " {'path': \"m/44'/0'/0'/0/1\",\n",
       "  'address': '17ee93yMQhuAdL38y4XDhX2ipfH3hJ64o5',\n",
       "  'privkey': 'L2MiFJXRuwpmACRUNCYTJg8dgGyhNRZGSHv8zXi8kHYyMufTBU8m',\n",
       "  'pubkey': '02d349cf746f7247ada535403258b77d2d6fdead36ae7e2e7c4639d4ebc714f7ff'},\n",
       " {'path': \"m/44'/0'/0'/0/2\",\n",
       "  'address': '1KHkcfTJpmpEwP9tPSPWGnyBsQxLQ8sgRZ',\n",
       "  'privkey': 'L2irnLKaYAZxVXSQkYTjmbCwmCoYa5Pfhef3DconAFv4kGgVPfhY',\n",
       "  'pubkey': '03a7e63b1a46988d52e03c3ccfe6c78518b2262d3aed4f7599f4480b4fb03fea78'}]"
      ]
     },
     "execution_count": 29,
     "metadata": {},
     "output_type": "execute_result"
    }
   ],
   "source": [
    "def derive_wallets(mnemonic, coin, numderive):\n",
    "    command = f\"C:/xampp/php/php.exe ./hd-wallet-derive/hd-wallet-derive.php -g --coin={coin} --numderive={numderive} --cols=path,address,privkey,pubkey --format=json --mnemonic='{mnemonic}'\"\n",
    "    print(command)\n",
    "    p = subprocess.Popen(command, stdout=subprocess.PIPE, shell=True)\n",
    "    output, err = p.communicate()\n",
    "    p_status = p.wait()\n",
    "    keys=json.loads(output)\n",
    "    return keys\n",
    "\n",
    "derive_wallets(\"note absent option glide fossil volcano hire cabin cup diamond pond project\", \"BTC\", 3)"
   ]
  },
  {
   "cell_type": "code",
   "execution_count": 30,
   "id": "blind-prayer",
   "metadata": {},
   "outputs": [
    {
     "name": "stdout",
     "output_type": "stream",
     "text": [
      "C:/xampp/php/php.exe ./hd-wallet-derive/hd-wallet-derive.php -g --coin=eth --numderive=3 --cols=path,address,privkey,pubkey --format=json --mnemonic='boring boil arrive impact chunk loud venture edge sadness kiss message powder'\n",
      "C:/xampp/php/php.exe ./hd-wallet-derive/hd-wallet-derive.php -g --coin=btc-test --numderive=3 --cols=path,address,privkey,pubkey --format=json --mnemonic='boring boil arrive impact chunk loud venture edge sadness kiss message powder'\n"
     ]
    }
   ],
   "source": [
    "coins = {ETH:derive_wallets(mnemonic,'eth', 3), BTCTEST:derive_wallets(mnemonic,'btc-test', 3)}\n",
    "\n",
    "def priv_key_to_account(coin, priv_key):\n",
    "    if coin == ETH:\n",
    "        return Account.privateKeyToAccount(priv_key)\n",
    "    if coin == BTCTEST:\n",
    "        return PrivateKeyTestnet(priv_key)"
   ]
  },
  {
   "cell_type": "code",
   "execution_count": 31,
   "id": "expanded-focus",
   "metadata": {},
   "outputs": [],
   "source": [
    "ETH_key = priv_key_to_account(ETH, '9cb92f6a3745a47f20f9c4f0fa93d3457959bf1c6de442e78ee3b33833540e96')"
   ]
  },
  {
   "cell_type": "code",
   "execution_count": 32,
   "id": "senior-snapshot",
   "metadata": {},
   "outputs": [],
   "source": [
    "# CREATE TRANSACTION\n",
    "def create_tx(coin, account, recipient, amount):\n",
    "    if coin == ETH:\n",
    "        gasEstimate = w3.eth.estimateGas(\n",
    "            {\"from\": account.address, \"to\": recipient, \"value\": amount}\n",
    "        )\n",
    "        trx_data = {\n",
    "            \"from\": account.address,\n",
    "            \"to\": recipient,\n",
    "            \"value\": amount,\n",
    "            \"gasPrice\": w3.eth.gasPrice,\n",
    "            \"gas\": gasEstimate,\n",
    "            \"nonce\": w3.eth.getTransactionCount(account.address),\n",
    "        }\n",
    "        return trx_data\n",
    "    if coin == BTCTEST:\n",
    "        return PrivateKeyTestnet.prepare_transaction(account.address, [(recipient, amount, BTC)])"
   ]
  },
  {
   "cell_type": "code",
   "execution_count": 33,
   "id": "concrete-judgment",
   "metadata": {},
   "outputs": [],
   "source": [
    "# SEND TRANSACTION\n",
    "def send_tx(coin, account, recipient, amount):\n",
    "    tx = create_tx(coin, account, recipient, amount)\n",
    "    signed_tx = account.sign_transaction(tx)\n",
    "    if coin == ETH:\n",
    "        result = w3.eth.sendRawTransaction(signed_tx.rawTransaction)\n",
    "        return result.hex()\n",
    "    elif coin == BTCTEST:\n",
    "        return NetworkAPI.broadcast_tx_testnet(signed_tx)"
   ]
  },
  {
   "cell_type": "code",
   "execution_count": 34,
   "id": "becoming-diesel",
   "metadata": {},
   "outputs": [
    {
     "data": {
      "text/plain": [
       "'0x5287c165f219c08480336b368fb6200233ccdc83251c002901a44e10d842032f'"
      ]
     },
     "execution_count": 34,
     "metadata": {},
     "output_type": "execute_result"
    }
   ],
   "source": [
    "send_tx(ETH, ETH_key, \"0xaEF84104518e1C2a4Af7Eea85429bBd05c93a9C9\", 1)"
   ]
  },
  {
   "cell_type": "code",
   "execution_count": 35,
   "id": "alien-illinois",
   "metadata": {},
   "outputs": [
    {
     "data": {
      "text/plain": [
       "99999579999999999999"
      ]
     },
     "execution_count": 35,
     "metadata": {},
     "output_type": "execute_result"
    }
   ],
   "source": [
    "w3.eth.get_balance(ETH_key.address)"
   ]
  },
  {
   "cell_type": "code",
   "execution_count": 36,
   "id": "characteristic-madonna",
   "metadata": {},
   "outputs": [
    {
     "name": "stdout",
     "output_type": "stream",
     "text": [
      "0x20569f4F5723BB2F7b08f241fDa1030C42d3C7EA\n"
     ]
    }
   ],
   "source": [
    "print(ETH_key.address)"
   ]
  },
  {
   "cell_type": "code",
   "execution_count": null,
   "id": "opened-block",
   "metadata": {},
   "outputs": [],
   "source": []
  }
 ],
 "metadata": {
  "kernelspec": {
   "display_name": "Python 3",
   "language": "python",
   "name": "python3"
  },
  "language_info": {
   "codemirror_mode": {
    "name": "ipython",
    "version": 3
   },
   "file_extension": ".py",
   "mimetype": "text/x-python",
   "name": "python",
   "nbconvert_exporter": "python",
   "pygments_lexer": "ipython3",
   "version": "3.7.6"
  }
 },
 "nbformat": 4,
 "nbformat_minor": 5
}
